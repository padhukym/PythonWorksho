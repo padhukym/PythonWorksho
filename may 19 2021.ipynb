{
 "cells": [
  {
   "cell_type": "markdown",
   "id": "8fb6916c",
   "metadata": {},
   "source": [
    "### Datatypes and conversions\n",
    "1. int\n",
    "2. float \n",
    "3. string\n"
   ]
  },
  {
   "cell_type": "code",
   "execution_count": 5,
   "id": "633a3578",
   "metadata": {},
   "outputs": [
    {
     "name": "stdout",
     "output_type": "stream",
     "text": [
      "n1= 13\n"
     ]
    },
    {
     "data": {
      "text/plain": [
       "int"
      ]
     },
     "execution_count": 5,
     "metadata": {},
     "output_type": "execute_result"
    }
   ],
   "source": [
    "n1=13\n",
    "print(\"n1=\",n1)\n",
    "type(n1)"
   ]
  },
  {
   "cell_type": "code",
   "execution_count": 6,
   "id": "3b11c543",
   "metadata": {},
   "outputs": [
    {
     "name": "stdout",
     "output_type": "stream",
     "text": [
      "n2= 23.27\n"
     ]
    },
    {
     "data": {
      "text/plain": [
       "float"
      ]
     },
     "execution_count": 6,
     "metadata": {},
     "output_type": "execute_result"
    }
   ],
   "source": [
    "n2=23.27\n",
    "print(\"n2=\",n2)\n",
    "type(n2)"
   ]
  },
  {
   "cell_type": "code",
   "execution_count": 7,
   "id": "8634843a",
   "metadata": {},
   "outputs": [
    {
     "name": "stdout",
     "output_type": "stream",
     "text": [
      "apssdc\n"
     ]
    },
    {
     "data": {
      "text/plain": [
       "str"
      ]
     },
     "execution_count": 7,
     "metadata": {},
     "output_type": "execute_result"
    }
   ],
   "source": [
    "s=\"apssdc\"\n",
    "print(s)\n",
    "type(s)"
   ]
  },
  {
   "cell_type": "code",
   "execution_count": 10,
   "id": "424db68d",
   "metadata": {},
   "outputs": [
    {
     "name": "stdout",
     "output_type": "stream",
     "text": [
      "<class 'int'>\n",
      "<class 'float'>\n"
     ]
    }
   ],
   "source": [
    "m=12\n",
    "n=13.3\n",
    "print(type(m))\n",
    "print(type(n))"
   ]
  },
  {
   "cell_type": "code",
   "execution_count": 12,
   "id": "cab03278",
   "metadata": {},
   "outputs": [
    {
     "name": "stdout",
     "output_type": "stream",
     "text": [
      "<class 'int'>\n",
      "<class 'str'>\n"
     ]
    }
   ],
   "source": [
    "n=27\n",
    "print(type(n))\n",
    "print(type(str(n)))"
   ]
  },
  {
   "cell_type": "code",
   "execution_count": 17,
   "id": "e68dd285",
   "metadata": {},
   "outputs": [
    {
     "name": "stdout",
     "output_type": "stream",
     "text": [
      "<class 'str'>\n"
     ]
    }
   ],
   "source": [
    "n1=23\n",
    "s=str(n1)\n",
    "print(type(s))"
   ]
  },
  {
   "cell_type": "code",
   "execution_count": 21,
   "id": "fbf5dae9",
   "metadata": {},
   "outputs": [
    {
     "name": "stdout",
     "output_type": "stream",
     "text": [
      "50.0\n",
      "<class 'float'>\n"
     ]
    }
   ],
   "source": [
    "num1=23\n",
    "num2=27.0\n",
    "print(num1+num2)\n",
    "print(type(num1+num2))"
   ]
  },
  {
   "cell_type": "markdown",
   "id": "7f581ca2",
   "metadata": {},
   "source": [
    "### Indentation"
   ]
  },
  {
   "cell_type": "code",
   "execution_count": 38,
   "id": "03e6b313",
   "metadata": {},
   "outputs": [
    {
     "name": "stdout",
     "output_type": "stream",
     "text": [
      "n1 is greater than n2\n"
     ]
    }
   ],
   "source": [
    "n1,n2=27,23\n",
    "if(n1>n2):\n",
    "    print(\"n1 is greater than n2\")\n",
    "else:\n",
    "    print(\"wrong statement\")"
   ]
  },
  {
   "cell_type": "markdown",
   "id": "ae4aa017",
   "metadata": {},
   "source": [
    "### Reading input dynamically"
   ]
  },
  {
   "cell_type": "code",
   "execution_count": 47,
   "id": "b3f00557",
   "metadata": {},
   "outputs": [
    {
     "name": "stdout",
     "output_type": "stream",
     "text": [
      "2327\n",
      "2327\n",
      "<class 'str'>\n"
     ]
    }
   ],
   "source": [
    "x=input()\n",
    "print(x)\n",
    "print(type(x))"
   ]
  },
  {
   "cell_type": "code",
   "execution_count": 45,
   "id": "f0d33d0d",
   "metadata": {},
   "outputs": [
    {
     "name": "stdout",
     "output_type": "stream",
     "text": [
      "<class 'int'>\n",
      "<class 'float'>\n",
      "2327\n",
      "2327.0\n"
     ]
    }
   ],
   "source": [
    "a=2327\n",
    "print(type(a))\n",
    "f=float(a)\n",
    "print(type(f))\n",
    "print(a)\n",
    "print(f)\n"
   ]
  },
  {
   "cell_type": "markdown",
   "id": "929ae8d3",
   "metadata": {},
   "source": [
    "### operators\n",
    "1. arthematic operators\n",
    "2. assignment operators\n",
    "3. comparision operators\n",
    "4. logical operators\n",
    "5. identity operators\n",
    "6. membership operators\n",
    "7. Bitwise operators"
   ]
  },
  {
   "cell_type": "markdown",
   "id": "e910c652",
   "metadata": {},
   "source": [
    "###1. Arthematic operators\n",
    "- +,-,*,/,%,//,**"
   ]
  },
  {
   "cell_type": "code",
   "execution_count": 49,
   "id": "ef87004c",
   "metadata": {},
   "outputs": [
    {
     "name": "stdout",
     "output_type": "stream",
     "text": [
      "a+b= 50\n",
      "a-b 4\n",
      "a*b 621\n",
      "a/b 1.173913043478261\n",
      "a%b 4\n",
      "a//b 1\n",
      "a**b 834385168331080533771857328695283\n"
     ]
    }
   ],
   "source": [
    "a,b=27,23\n",
    "print(\"a+b=\",27+23)\n",
    "print(\"a-b\",27-23)\n",
    "print(\"a*b\",27*23)\n",
    "print(\"a/b\",27/23)\n",
    "print(\"a%b\",27%23)\n",
    "print(\"a//b\",27//23)\n",
    "print(\"a**b\",27**23)"
   ]
  },
  {
   "cell_type": "markdown",
   "id": "2083ae31",
   "metadata": {},
   "source": [
    "### Assignment operators\n",
    "- +=,-=,*=,etc"
   ]
  },
  {
   "cell_type": "code",
   "execution_count": 66,
   "id": "8231b74b",
   "metadata": {},
   "outputs": [
    {
     "name": "stdout",
     "output_type": "stream",
     "text": [
      "12\n"
     ]
    }
   ],
   "source": [
    "a=12\n",
    "print(a)"
   ]
  },
  {
   "cell_type": "code",
   "execution_count": 67,
   "id": "fab8a403",
   "metadata": {},
   "outputs": [
    {
     "name": "stdout",
     "output_type": "stream",
     "text": [
      "13\n"
     ]
    }
   ],
   "source": [
    "a+=1 #a=a+1\n",
    "print(a)"
   ]
  },
  {
   "cell_type": "code",
   "execution_count": 68,
   "id": "c1d8d8f5",
   "metadata": {},
   "outputs": [
    {
     "name": "stdout",
     "output_type": "stream",
     "text": [
      "11\n"
     ]
    }
   ],
   "source": [
    "a-=2 #a=a-2\n",
    "print(a)"
   ]
  },
  {
   "cell_type": "code",
   "execution_count": 69,
   "id": "bc7fdf90",
   "metadata": {},
   "outputs": [
    {
     "name": "stdout",
     "output_type": "stream",
     "text": [
      "22\n"
     ]
    }
   ],
   "source": [
    "a*=2 #a=a*2\n",
    "print(a)"
   ]
  },
  {
   "cell_type": "code",
   "execution_count": 70,
   "id": "4fe0c51e",
   "metadata": {},
   "outputs": [
    {
     "name": "stdout",
     "output_type": "stream",
     "text": [
      "11.0\n",
      "<class 'float'>\n"
     ]
    }
   ],
   "source": [
    "a/=2 #a=a/2\n",
    "print(a)\n",
    "print(type(a))"
   ]
  },
  {
   "cell_type": "markdown",
   "id": "ec04644a",
   "metadata": {},
   "source": [
    "### 3. comparasion operators\n",
    "- ==,<,>,>=,<=,!="
   ]
  },
  {
   "cell_type": "code",
   "execution_count": 73,
   "id": "4e32faca",
   "metadata": {},
   "outputs": [
    {
     "name": "stdout",
     "output_type": "stream",
     "text": [
      "False\n",
      "True\n",
      "True\n",
      "False\n",
      "False\n",
      "True\n"
     ]
    }
   ],
   "source": [
    "n1,n2=23,27\n",
    "print(n1==n2)\n",
    "print(n1!=n2)\n",
    "print(n1<n2)\n",
    "print(n1>n2)\n",
    "print(n1>=n2)\n",
    "print(n1<=n2)"
   ]
  },
  {
   "cell_type": "markdown",
   "id": "a0199607",
   "metadata": {},
   "source": [
    "### 5. logical operators\n",
    "- and,or,not"
   ]
  },
  {
   "cell_type": "code",
   "execution_count": 76,
   "id": "81ce42fc",
   "metadata": {},
   "outputs": [
    {
     "name": "stdout",
     "output_type": "stream",
     "text": [
      "True\n",
      "False\n"
     ]
    }
   ],
   "source": [
    "a=5\n",
    "print(a<6 and a>4)\n",
    "print(a>6 or a<2)"
   ]
  },
  {
   "cell_type": "code",
   "execution_count": 77,
   "id": "5001d391",
   "metadata": {},
   "outputs": [
    {
     "name": "stdout",
     "output_type": "stream",
     "text": [
      "True\n"
     ]
    }
   ],
   "source": [
    "res=a>6 or a<2\n",
    "print(not(res))"
   ]
  },
  {
   "cell_type": "markdown",
   "id": "6cb938ea",
   "metadata": {},
   "source": [
    "### 6.identity operator\n",
    "- is,is not"
   ]
  },
  {
   "cell_type": "code",
   "execution_count": 79,
   "id": "4b793558",
   "metadata": {},
   "outputs": [
    {
     "name": "stdout",
     "output_type": "stream",
     "text": [
      "False\n"
     ]
    }
   ],
   "source": [
    "x,y=23,27\n",
    "print(x is y)"
   ]
  },
  {
   "cell_type": "code",
   "execution_count": 80,
   "id": "7b5606da",
   "metadata": {},
   "outputs": [
    {
     "name": "stdout",
     "output_type": "stream",
     "text": [
      "True\n"
     ]
    }
   ],
   "source": [
    "print(x is not y)"
   ]
  },
  {
   "cell_type": "markdown",
   "id": "a9fb47ad",
   "metadata": {},
   "source": [
    "### 6. Membership operators\n",
    "- in, not in"
   ]
  },
  {
   "cell_type": "code",
   "execution_count": 83,
   "id": "20df0017",
   "metadata": {},
   "outputs": [
    {
     "name": "stdout",
     "output_type": "stream",
     "text": [
      "True\n",
      "False\n",
      "True\n"
     ]
    }
   ],
   "source": [
    "fruits=[\"apple\",\"gova\",\"grapes\"]\n",
    "print(\"apple\" in fruits)\n",
    "print(\"banana\" in fruits)\n",
    "print(\"banana\" not in fruits)"
   ]
  },
  {
   "cell_type": "markdown",
   "id": "eb878c3f",
   "metadata": {},
   "source": [
    "### 7. Bitwise operators\n",
    "- &,|,^,>>,<<,~"
   ]
  },
  {
   "cell_type": "code",
   "execution_count": 1,
   "id": "4a7d1882",
   "metadata": {},
   "outputs": [
    {
     "name": "stdout",
     "output_type": "stream",
     "text": [
      "enter 1st value5\n",
      "enter 2nd value3\n",
      "a&b= 1\n",
      "a|b= 7\n",
      "~a= -6\n",
      "a^b= 6\n",
      "a<<1= 10\n",
      "a>>1= 2\n"
     ]
    }
   ],
   "source": [
    "a=int(input(\"enter 1st value\"))\n",
    "b=int(input(\"enter 2nd value\"))\n",
    "print(\"a&b=\",a&b)\n",
    "print(\"a|b=\",a|b)\n",
    "print(\"~a=\",~a)\n",
    "print(\"a^b=\",a^b)\n",
    "print(\"a<<1=\",a<<1)\n",
    "print(\"a>>1=\",a>>1)"
   ]
  },
  {
   "cell_type": "code",
   "execution_count": null,
   "id": "ce91b2a6",
   "metadata": {},
   "outputs": [],
   "source": []
  }
 ],
 "metadata": {
  "kernelspec": {
   "display_name": "Python 3",
   "language": "python",
   "name": "python3"
  },
  "language_info": {
   "codemirror_mode": {
    "name": "ipython",
    "version": 3
   },
   "file_extension": ".py",
   "mimetype": "text/x-python",
   "name": "python",
   "nbconvert_exporter": "python",
   "pygments_lexer": "ipython3",
   "version": "3.9.4"
  }
 },
 "nbformat": 4,
 "nbformat_minor": 5
}
