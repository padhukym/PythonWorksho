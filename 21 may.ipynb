{
 "cells": [
  {
   "cell_type": "markdown",
   "id": "7485e9e0",
   "metadata": {},
   "source": [
    "### Today topics\n",
    "- break\n",
    "- continue\n",
    "- pass statements\n",
    "- while loop\n",
    "- strings"
   ]
  },
  {
   "cell_type": "code",
   "execution_count": 1,
   "id": "a42bfd85",
   "metadata": {},
   "outputs": [
    {
     "name": "stdout",
     "output_type": "stream",
     "text": [
      "python79\n",
      "programming79\n",
      "may79\n",
      "202179\n"
     ]
    }
   ],
   "source": [
    "l = [\"python\",\"programming\",\"may\",\"2021\"]\n",
    "for i in l:\n",
    "    print(i+str(79))"
   ]
  },
  {
   "cell_type": "code",
   "execution_count": 2,
   "id": "bd71c177",
   "metadata": {},
   "outputs": [
    {
     "name": "stdout",
     "output_type": "stream",
     "text": [
      "0\n",
      "1\n",
      "2\n",
      "3\n"
     ]
    }
   ],
   "source": [
    "for i in range(0,len(l)):\n",
    "        print(i)"
   ]
  },
  {
   "cell_type": "code",
   "execution_count": 3,
   "id": "f83ade0d",
   "metadata": {},
   "outputs": [
    {
     "name": "stdout",
     "output_type": "stream",
     "text": [
      "p y t h o n   p r o g r a m m i n g "
     ]
    }
   ],
   "source": [
    "s=\"python programming\"\n",
    "for i in s:\n",
    "    print(i,end=\" \")"
   ]
  },
  {
   "cell_type": "code",
   "execution_count": 4,
   "id": "9b4ed046",
   "metadata": {},
   "outputs": [
    {
     "name": "stdout",
     "output_type": "stream",
     "text": [
      "h g "
     ]
    }
   ],
   "source": [
    "s=\"python programming\"\n",
    "for i in range(0,len(s)):\n",
    "    if i==3 or i==17:\n",
    "        print(s[i],end=\" \")"
   ]
  },
  {
   "cell_type": "code",
   "execution_count": 5,
   "id": "34bcea31",
   "metadata": {},
   "outputs": [
    {
     "name": "stdout",
     "output_type": "stream",
     "text": [
      "0 p 1 y 2 t 3 h 4 o 5 n 6   7 p 8 r 9 o 10 g 11 r 12 a 13 m 14 m 15 i 16 n 17 g "
     ]
    }
   ],
   "source": [
    "for i in range(0,len(s)):# (0,18)\n",
    "    print(i,end=\" \")  \n",
    "    print(s[i],end=\" \")"
   ]
  },
  {
   "cell_type": "code",
   "execution_count": 6,
   "id": "ba15cbbb",
   "metadata": {},
   "outputs": [
    {
     "name": "stdout",
     "output_type": "stream",
     "text": [
      "o p g "
     ]
    }
   ],
   "source": [
    "for i in range(0,len(s)):# (0,18)\n",
    "    if i==17 or i ==7 or i==4:\n",
    "        print(s[i],end=\" \")"
   ]
  },
  {
   "cell_type": "code",
   "execution_count": 7,
   "id": "70b32faa",
   "metadata": {},
   "outputs": [
    {
     "data": {
      "text/plain": [
       "['python', 'programming', 'may', '2021']"
      ]
     },
     "execution_count": 7,
     "metadata": {},
     "output_type": "execute_result"
    }
   ],
   "source": [
    "### break statement\n",
    "l"
   ]
  },
  {
   "cell_type": "code",
   "execution_count": 8,
   "id": "63710388",
   "metadata": {},
   "outputs": [
    {
     "name": "stdout",
     "output_type": "stream",
     "text": [
      "may\n"
     ]
    }
   ],
   "source": [
    "for i in l:\n",
    "    if i==\"may\":\n",
    "        print(i)\n",
    "        break"
   ]
  },
  {
   "cell_type": "code",
   "execution_count": 9,
   "id": "398ab911",
   "metadata": {},
   "outputs": [
    {
     "name": "stdout",
     "output_type": "stream",
     "text": [
      "['python', 'programming', 'may', '2021']\n",
      "python\n",
      "programming\n"
     ]
    }
   ],
   "source": [
    "print(l)\n",
    "for i in l:\n",
    "    if i==\"may\":\n",
    "        break\n",
    "    print(i)        "
   ]
  },
  {
   "cell_type": "code",
   "execution_count": 10,
   "id": "6aa17159",
   "metadata": {},
   "outputs": [
    {
     "name": "stdout",
     "output_type": "stream",
     "text": [
      "may\n",
      "\n",
      "programming\n",
      "2021\n"
     ]
    }
   ],
   "source": [
    "### continue\n",
    "for i in l:\n",
    "    if i==\"may\":\n",
    "        print(i)\n",
    "print()\n",
    "for i in l:\n",
    "    if i==\"may\" or i==\"python\":\n",
    "        continue\n",
    "    print(i)\n"
   ]
  },
  {
   "cell_type": "code",
   "execution_count": null,
   "id": "d48822b8",
   "metadata": {},
   "outputs": [],
   "source": []
  },
  {
   "cell_type": "code",
   "execution_count": 11,
   "id": "a25958a8",
   "metadata": {},
   "outputs": [
    {
     "name": "stdout",
     "output_type": "stream",
     "text": [
      "python\n",
      "programming\n",
      "continue\n",
      "2021\n",
      "\n",
      "python\n",
      "programming\n",
      "pass\n",
      "may\n",
      "2021\n"
     ]
    }
   ],
   "source": [
    "### continue\n",
    "for i in l:\n",
    "    if i==\"may\":\n",
    "        print(\"continue\")\n",
    "        continue\n",
    "    print(i)\n",
    "print()\n",
    "for i in l:\n",
    "    if i==\"may\":\n",
    "        print(\"pass\")\n",
    "        pass\n",
    "    print(i)\n"
   ]
  },
  {
   "cell_type": "code",
   "execution_count": 18,
   "id": "eb57720b",
   "metadata": {},
   "outputs": [],
   "source": [
    "l=[1,2,3,4,5,6,4,5,6]"
   ]
  },
  {
   "cell_type": "code",
   "execution_count": 22,
   "id": "3ffbc3ec",
   "metadata": {},
   "outputs": [
    {
     "name": "stdout",
     "output_type": "stream",
     "text": [
      "4 is present\n"
     ]
    }
   ],
   "source": [
    "for i in l:\n",
    "    if i==4:\n",
    "        print(\"4 is present\")\n",
    "        break"
   ]
  },
  {
   "cell_type": "code",
   "execution_count": 25,
   "id": "ed8a1e61",
   "metadata": {},
   "outputs": [
    {
     "name": "stdout",
     "output_type": "stream",
     "text": [
      "1\n",
      "2\n",
      "3\n",
      "5\n",
      "6\n",
      "5\n",
      "6\n"
     ]
    }
   ],
   "source": [
    "for i in l:\n",
    "    if i==4:\n",
    "        continue\n",
    "    print(i)"
   ]
  },
  {
   "cell_type": "code",
   "execution_count": 29,
   "id": "63017565",
   "metadata": {},
   "outputs": [
    {
     "name": "stdout",
     "output_type": "stream",
     "text": [
      "1 2 3 4 is resent\n",
      "4 5 6 4 is resent\n",
      "4 5 6 "
     ]
    }
   ],
   "source": [
    "for i in l:\n",
    "    if i==4:\n",
    "        print(\"4 is resent\")\n",
    "        pass\n",
    "    print(i,end=\" \")"
   ]
  },
  {
   "cell_type": "code",
   "execution_count": null,
   "id": "1ed6511a",
   "metadata": {},
   "outputs": [],
   "source": []
  }
 ],
 "metadata": {
  "kernelspec": {
   "display_name": "Python 3",
   "language": "python",
   "name": "python3"
  },
  "language_info": {
   "codemirror_mode": {
    "name": "ipython",
    "version": 3
   },
   "file_extension": ".py",
   "mimetype": "text/x-python",
   "name": "python",
   "nbconvert_exporter": "python",
   "pygments_lexer": "ipython3",
   "version": "3.9.4"
  }
 },
 "nbformat": 4,
 "nbformat_minor": 5
}
