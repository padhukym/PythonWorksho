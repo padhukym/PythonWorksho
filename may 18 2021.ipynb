{
 "cells": [
  {
   "cell_type": "markdown",
   "id": "6fccc31c",
   "metadata": {},
   "source": [
    "# Heading1\n",
    "## Heading2\n",
    "### Heading3\n",
    "#### Heading4\n",
    "##### Heading5\n",
    "###### Heading6\n"
   ]
  },
  {
   "cell_type": "markdown",
   "id": "f0685b68",
   "metadata": {},
   "source": [
    "**Bold**\n",
    "\n",
    "*Italic*\n",
    "\n",
    "***Bold and Italic***"
   ]
  },
  {
   "cell_type": "markdown",
   "id": "df4aa731",
   "metadata": {},
   "source": [
    "* Normal text\n",
    "    * sublist1\n",
    "    * sublist2\n",
    "    * sublist3\n",
    "    "
   ]
  },
  {
   "cell_type": "markdown",
   "id": "ea25ca86",
   "metadata": {},
   "source": [
    "<img src=\"apssdc.png\">"
   ]
  },
  {
   "cell_type": "markdown",
   "id": "61d41ef1",
   "metadata": {},
   "source": [
    "### Comments in Python\n",
    "1. single line comment \n",
    "2. Multi line comment"
   ]
  },
  {
   "cell_type": "code",
   "execution_count": 11,
   "id": "0b4fd87c",
   "metadata": {},
   "outputs": [
    {
     "name": "stdout",
     "output_type": "stream",
     "text": [
      "hello world\n"
     ]
    }
   ],
   "source": [
    "1. #single line comment\n",
    "\n",
    "\"\"\"\n",
    "multi \n",
    "line\n",
    "comment\n",
    "\n",
    "\"\"\"\n",
    "print(\"hello world\")"
   ]
  },
  {
   "cell_type": "code",
   "execution_count": 12,
   "id": "c7282feb",
   "metadata": {},
   "outputs": [
    {
     "name": "stdout",
     "output_type": "stream",
     "text": [
      "padminipadminipadminipadminipadmini\n"
     ]
    }
   ],
   "source": [
    "print(5*\"padmini\")"
   ]
  },
  {
   "cell_type": "code",
   "execution_count": 13,
   "id": "07f6644f",
   "metadata": {},
   "outputs": [
    {
     "name": "stdout",
     "output_type": "stream",
     "text": [
      "padmini\tpadmini\tpadmini\tpadmini\tpadmini\t\n"
     ]
    }
   ],
   "source": [
    "print(5*\"padmini\\t\")"
   ]
  },
  {
   "cell_type": "code",
   "execution_count": 14,
   "id": "41dd1ceb",
   "metadata": {},
   "outputs": [
    {
     "name": "stdout",
     "output_type": "stream",
     "text": [
      "padmini\n",
      "padmini\n",
      "padmini\n",
      "padmini\n",
      "padmini\n",
      "\n"
     ]
    }
   ],
   "source": [
    "print(5*\"padmini\\n\")"
   ]
  },
  {
   "cell_type": "markdown",
   "id": "3a7788a8",
   "metadata": {},
   "source": [
    "### Variables\n",
    "- A python variable is a reserved memory location to store values."
   ]
  },
  {
   "cell_type": "code",
   "execution_count": 15,
   "id": "3b53ba36",
   "metadata": {},
   "outputs": [
    {
     "name": "stdout",
     "output_type": "stream",
     "text": [
      "12\n",
      "a\n"
     ]
    }
   ],
   "source": [
    "a = 12\n",
    "print(a)\n",
    "print(\"a\")"
   ]
  },
  {
   "cell_type": "code",
   "execution_count": 16,
   "id": "30a94590",
   "metadata": {},
   "outputs": [
    {
     "name": "stdout",
     "output_type": "stream",
     "text": [
      "12\n"
     ]
    }
   ],
   "source": [
    "a = 12 #single variable assignmet\n",
    "print(a)"
   ]
  },
  {
   "cell_type": "code",
   "execution_count": 17,
   "id": "4d39671c",
   "metadata": {},
   "outputs": [
    {
     "name": "stdout",
     "output_type": "stream",
     "text": [
      "apssdc\n"
     ]
    }
   ],
   "source": [
    "a = \"apssdc\"\n",
    "print(a)"
   ]
  },
  {
   "cell_type": "code",
   "execution_count": 18,
   "id": "637b62fb",
   "metadata": {},
   "outputs": [
    {
     "name": "stdout",
     "output_type": "stream",
     "text": [
      "12 10 9\n",
      "\n",
      "****************\n",
      "\n",
      " 12 \n",
      " 10 \n",
      " 9\n"
     ]
    }
   ],
   "source": [
    "x,y,z=12,10,9 #multiple variable assigment\n",
    "print(x,y,z)\n",
    "print(\"\\n****************\")\n",
    "print('\\n',x,'\\n',y,'\\n',z)\n",
    "\n"
   ]
  },
  {
   "cell_type": "markdown",
   "id": "5b59fc56",
   "metadata": {},
   "source": [
    "### Python keyword\n",
    "\n",
    "- keywords are the reserved words in python,we cannot use a keyword as a variable name,function name or any other identifier"
   ]
  },
  {
   "cell_type": "code",
   "execution_count": 7,
   "id": "bc9174a6",
   "metadata": {},
   "outputs": [
    {
     "name": "stdout",
     "output_type": "stream",
     "text": [
      "['False', 'None', 'True', '__peg_parser__', 'and', 'as', 'assert', 'async', 'await', 'break', 'class', 'continue', 'def', 'del', 'elif', 'else', 'except', 'finally', 'for', 'from', 'global', 'if', 'import', 'in', 'is', 'lambda', 'nonlocal', 'not', 'or', 'pass', 'raise', 'return', 'try', 'while', 'with', 'yield']\n"
     ]
    }
   ],
   "source": [
    "import keyword\n",
    "print(keyword.kwlist)\n"
   ]
  },
  {
   "cell_type": "code",
   "execution_count": 10,
   "id": "25c3ae05",
   "metadata": {},
   "outputs": [
    {
     "name": "stdout",
     "output_type": "stream",
     "text": [
      "36\n"
     ]
    }
   ],
   "source": [
    "l = keyword.kwlist\n",
    "print(len(l))\n"
   ]
  }
 ],
 "metadata": {
  "kernelspec": {
   "display_name": "Python 3",
   "language": "python",
   "name": "python3"
  },
  "language_info": {
   "codemirror_mode": {
    "name": "ipython",
    "version": 3
   },
   "file_extension": ".py",
   "mimetype": "text/x-python",
   "name": "python",
   "nbconvert_exporter": "python",
   "pygments_lexer": "ipython3",
   "version": "3.9.4"
  }
 },
 "nbformat": 4,
 "nbformat_minor": 5
}
